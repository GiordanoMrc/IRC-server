{
 "cells": [
  {
   "cell_type": "code",
   "execution_count": 46,
   "metadata": {},
   "outputs": [],
   "source": [
    "import random\n",
    "from Crypto.Util import number"
   ]
  },
  {
   "cell_type": "code",
   "execution_count": 47,
   "metadata": {},
   "outputs": [],
   "source": [
    "def phi(p,q): \n",
    "    phi = (p - 1) * (q - 1)\n",
    "    return phi\n",
    "\n",
    "def computeGCD(x, y): \n",
    "  \n",
    "   while(y): \n",
    "       x, y = y, x % y \n",
    "  \n",
    "   return x \n",
    "\n",
    "def multiplicative_inverse(a, b):\n",
    "    x = 0\n",
    "    y = 1\n",
    "    lx = 1\n",
    "    ly = 0\n",
    "    oa = a  # Remember original a/b to remove\n",
    "    ob = b  # negative values from return results\n",
    "    while b != 0:\n",
    "        q = a // b\n",
    "        (a, b) = (b, a % b)\n",
    "        (x, lx) = ((lx - (q * x)), x)\n",
    "        (y, ly) = ((ly - (q * y)), y)\n",
    "    if lx < 0:\n",
    "        lx += ob  # If neg wrap modulo orignal b\n",
    "    if ly < 0:\n",
    "        ly += oa  # If neg wrap modulo orignal a\n",
    "    # return a , lx, ly  # Return only positive values\n",
    "    return lx"
   ]
  },
  {
   "cell_type": "code",
   "execution_count": 48,
   "metadata": {},
   "outputs": [],
   "source": [
    "n_length = 1024\n",
    "primeNum1 = number.getPrime(n_length)\n",
    "primeNum2 = number.getPrime(n_length)\n",
    "n = primeNum1 * primeNum2\n",
    "\n",
    "phi = phi(primeNum1, primeNum2)\n",
    "\n",
    "e = random.randrange(1, phi)\n",
    "g = computeGCD(e, phi)\n",
    "while g != 1:\n",
    "    e = random.randrange(1, phi)\n",
    "    g = computeGCD(e, phi)\n",
    "    \n",
    "public_key = (e, n)\n",
    "\n",
    "d = multiplicative_inverse(e,phi)\n",
    "private_key = (d, n)"
   ]
  },
  {
   "cell_type": "code",
   "execution_count": 49,
   "metadata": {},
   "outputs": [],
   "source": [
    "##Converte de String para decimal\n",
    "s = 'Eai, como tu tá??'\n",
    "nchars = len(s)\n",
    "x = sum(ord(s[byte])<<8*(nchars-byte-1) for byte in range(nchars))"
   ]
  },
  {
   "cell_type": "code",
   "execution_count": 45,
   "metadata": {
    "scrolled": true
   },
   "outputs": [
    {
     "data": {
      "text/plain": [
       "'Eai, como tu tá??'"
      ]
     },
     "execution_count": 45,
     "metadata": {},
     "output_type": "execute_result"
    }
   ],
   "source": [
    "# Converte decimal para String\n",
    "x = 23608964519298134460201634589930237804351\n",
    "\n",
    "''.join(chr((x>>8*(nchars-byte-1))&0xFF) for byte in range(nchars))"
   ]
  },
  {
   "cell_type": "code",
   "execution_count": 50,
   "metadata": {},
   "outputs": [],
   "source": [
    "mensagem_publica = pow(x,e, n)"
   ]
  },
  {
   "cell_type": "code",
   "execution_count": 58,
   "metadata": {},
   "outputs": [],
   "source": [
    "mensagem_privada = pow(mensagem_publica,d, n)"
   ]
  },
  {
   "cell_type": "code",
   "execution_count": 59,
   "metadata": {},
   "outputs": [
    {
     "data": {
      "text/plain": [
       "True"
      ]
     },
     "execution_count": 59,
     "metadata": {},
     "output_type": "execute_result"
    }
   ],
   "source": [
    "mensagem_privada == x"
   ]
  }
 ],
 "metadata": {
  "kernelspec": {
   "display_name": "Python 3",
   "language": "python",
   "name": "python3"
  },
  "language_info": {
   "codemirror_mode": {
    "name": "ipython",
    "version": 3
   },
   "file_extension": ".py",
   "mimetype": "text/x-python",
   "name": "python",
   "nbconvert_exporter": "python",
   "pygments_lexer": "ipython3",
   "version": "3.7.4"
  }
 },
 "nbformat": 4,
 "nbformat_minor": 2
}
