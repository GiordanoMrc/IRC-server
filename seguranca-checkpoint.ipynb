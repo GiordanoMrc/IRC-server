{
 "cells": [
  {
   "cell_type": "code",
   "execution_count": 1,
   "metadata": {},
   "outputs": [],
   "source": [
    "from Crypto.Util import number\n",
    "\n",
    "n_length = 256\n",
    "\n",
    "primeNum1 = number.getPrime(n_length)\n",
    "\n",
    "primeNum2 = number.getPrime(n_length)"
   ]
  },
  {
   "cell_type": "code",
   "execution_count": 2,
   "metadata": {},
   "outputs": [],
   "source": [
    "n = primeNum1 * primeNum2"
   ]
  },
  {
   "cell_type": "code",
   "execution_count": 3,
   "metadata": {},
   "outputs": [
    {
     "data": {
      "text/plain": [
       "9842611073624318168749171756102317030390840453274938215846455995804628734612730902247858361206262893245473203594189209493389724158085595574743745562358419"
      ]
     },
     "execution_count": 3,
     "metadata": {},
     "output_type": "execute_result"
    }
   ],
   "source": [
    "n"
   ]
  },
  {
   "cell_type": "code",
   "execution_count": 4,
   "metadata": {},
   "outputs": [],
   "source": [
    "def phi(p,q): \n",
    "    phi = (p - 1) * (q - 1)\n",
    "    return phi"
   ]
  },
  {
   "cell_type": "code",
   "execution_count": 5,
   "metadata": {},
   "outputs": [],
   "source": [
    "phi = phi(primeNum1, primeNum2)"
   ]
  },
  {
   "cell_type": "code",
   "execution_count": 6,
   "metadata": {},
   "outputs": [
    {
     "data": {
      "text/plain": [
       "9842611073624318168749171756102317030390840453274938215846455995804628734612531833000701543199498413431644251868629056357740830811935851478198861152018496"
      ]
     },
     "execution_count": 6,
     "metadata": {},
     "output_type": "execute_result"
    }
   ],
   "source": [
    "phi"
   ]
  },
  {
   "cell_type": "code",
   "execution_count": 7,
   "metadata": {},
   "outputs": [],
   "source": [
    "def computeGCD(x, y): \n",
    "  \n",
    "   while(y): \n",
    "       x, y = y, x % y \n",
    "  \n",
    "   return x "
   ]
  },
  {
   "cell_type": "code",
   "execution_count": 8,
   "metadata": {},
   "outputs": [],
   "source": [
    "import random"
   ]
  },
  {
   "cell_type": "code",
   "execution_count": 9,
   "metadata": {},
   "outputs": [],
   "source": [
    " e = random.randrange(1, phi)"
   ]
  },
  {
   "cell_type": "code",
   "execution_count": 10,
   "metadata": {},
   "outputs": [],
   "source": [
    "g = computeGCD(e, phi)\n",
    "while g != 1:\n",
    "    e = random.randrange(1, phi)\n",
    "    g = computeGCD(e, phi)"
   ]
  },
  {
   "cell_type": "code",
   "execution_count": 11,
   "metadata": {},
   "outputs": [
    {
     "data": {
      "text/plain": [
       "8535731838657938210465731341528065999965309246260102233353473393616216562676650923576531827053050347097500892176046327734986480952857698970390492991197811"
      ]
     },
     "execution_count": 11,
     "metadata": {},
     "output_type": "execute_result"
    }
   ],
   "source": [
    "e"
   ]
  },
  {
   "cell_type": "code",
   "execution_count": 12,
   "metadata": {},
   "outputs": [],
   "source": [
    "public_key = (e, n)"
   ]
  },
  {
   "cell_type": "code",
   "execution_count": 13,
   "metadata": {},
   "outputs": [],
   "source": [
    "from decimal import Decimal"
   ]
  },
  {
   "cell_type": "code",
   "execution_count": 14,
   "metadata": {},
   "outputs": [],
   "source": [
    "def multiplicative_inverse(a, b):\n",
    "    \"\"\"Returns a tuple (r, i, j) such that r = gcd(a, b) = ia + jb\n",
    "    \"\"\"\n",
    "    # r = gcd(a,b) i = multiplicitive inverse of a mod b\n",
    "    #      or      j = multiplicitive inverse of b mod a\n",
    "    # Neg return values for i or j are made positive mod b or a respectively\n",
    "    # Iterateive Version is faster and uses much less stack space\n",
    "    x = 0\n",
    "    y = 1\n",
    "    lx = 1\n",
    "    ly = 0\n",
    "    oa = a  # Remember original a/b to remove\n",
    "    ob = b  # negative values from return results\n",
    "    while b != 0:\n",
    "        q = a // b\n",
    "        (a, b) = (b, a % b)\n",
    "        (x, lx) = ((lx - (q * x)), x)\n",
    "        (y, ly) = ((ly - (q * y)), y)\n",
    "    if lx < 0:\n",
    "        lx += ob  # If neg wrap modulo orignal b\n",
    "    if ly < 0:\n",
    "        ly += oa  # If neg wrap modulo orignal a\n",
    "    # return a , lx, ly  # Return only positive values\n",
    "    return lx"
   ]
  },
  {
   "cell_type": "code",
   "execution_count": 15,
   "metadata": {},
   "outputs": [],
   "source": [
    "d = multiplicative_inverse(e,phi)"
   ]
  },
  {
   "cell_type": "code",
   "execution_count": 16,
   "metadata": {},
   "outputs": [],
   "source": [
    "private_key = (d, n)"
   ]
  },
  {
   "cell_type": "code",
   "execution_count": 17,
   "metadata": {},
   "outputs": [],
   "source": [
    "s = 'attack at dawn'\n",
    "nchars = len(s)\n",
    "# string to int or long. Type depends on nchars\n",
    "x = sum(ord(s[byte])<<8*(nchars-byte-1) for byte in range(nchars))"
   ]
  },
  {
   "cell_type": "code",
   "execution_count": 18,
   "metadata": {
    "scrolled": true
   },
   "outputs": [
    {
     "data": {
      "text/plain": [
       "'attack at dawn'"
      ]
     },
     "execution_count": 18,
     "metadata": {},
     "output_type": "execute_result"
    }
   ],
   "source": [
    "# int or long to string\n",
    "''.join(chr((x>>8*(nchars-byte-1))&0xFF) for byte in range(nchars))"
   ]
  },
  {
   "cell_type": "code",
   "execution_count": 24,
   "metadata": {},
   "outputs": [],
   "source": [
    "mensagemp = pow(x,e, n)"
   ]
  },
  {
   "cell_type": "code",
   "execution_count": 25,
   "metadata": {},
   "outputs": [],
   "source": [
    "dmensagem = pow(mensagemp,d, n)"
   ]
  },
  {
   "cell_type": "code",
   "execution_count": 26,
   "metadata": {},
   "outputs": [
    {
     "data": {
      "text/plain": [
       "1976620216402300889624482718775150"
      ]
     },
     "execution_count": 26,
     "metadata": {},
     "output_type": "execute_result"
    }
   ],
   "source": [
    "dmensagem"
   ]
  }
 ],
 "metadata": {
  "kernelspec": {
   "display_name": "Python 3",
   "language": "python",
   "name": "python3"
  },
  "language_info": {
   "codemirror_mode": {
    "name": "ipython",
    "version": 3
   },
   "file_extension": ".py",
   "mimetype": "text/x-python",
   "name": "python",
   "nbconvert_exporter": "python",
   "pygments_lexer": "ipython3",
   "version": "3.7.4"
  }
 },
 "nbformat": 4,
 "nbformat_minor": 2
}
